{
 "cells": [
  {
   "cell_type": "markdown",
   "metadata": {},
   "source": [
    "# Tema: Quantidade de mulheres candidatas a vereadora do município de Caçapava entre o ano 2016 e 2020.\n",
    "# Curso: Análise e Desenvolvimento de Sistemas \n",
    "# Alunas: Érica dos Santos e Stephanie Costa.\n",
    "# Professor: Fernando Masanori"
   ]
  },
  {
   "cell_type": "markdown",
   "metadata": {},
   "source": [
    "## Importando as bibliotecas"
   ]
  },
  {
   "cell_type": "code",
   "execution_count": 2,
   "metadata": {},
   "outputs": [],
   "source": [
    "%matplotlib inline\n",
    "import pandas as pd\n",
    "import matplotlib.pyplot as plt\n",
    "import numpy as np"
   ]
  },
  {
   "cell_type": "markdown",
   "metadata": {},
   "source": [
    "## Realizando a leitura dos dados de 2016 e 2020"
   ]
  },
  {
   "cell_type": "code",
   "execution_count": 27,
   "metadata": {},
   "outputs": [],
   "source": [
    "candidata_vereadora_2016 = pd.read_csv(r\"C:\\Users\\Stephanie\\Documents\\5ºSemestreFatec\\LabBD\\jupyterNotebook\\venv\\consulta_cand_2016\\consulta_cand_2016_sp.csv\", sep=';' , encoding='iso-8859-1',usecols = ['NM_UE', 'DS_GENERO', 'NM_CANDIDATO', 'DS_ESTADO_CIVIL', 'DS_COR_RACA','DS_GRAU_INSTRUCAO','DS_OCUPACAO','VR_DESPESA_MAX_CAMPANHA','ST_REELEICAO','DS_SITUACAO_CANDIDATURA'])"
   ]
  },
  {
   "cell_type": "code",
   "execution_count": 3,
   "metadata": {},
   "outputs": [],
   "source": [
    "candidata_vereadora_2020 = pd.read_csv(r\"C:\\Users\\Stephanie\\Documents\\5ºSemestreFatec\\LabBD\\jupyterNotebook\\venv\\consulta_cand_2020\\consulta_cand_2020_sp.csv\", sep=';' , encoding='iso-8859-1', usecols = ['NM_UE', 'DS_GENERO', 'NM_CANDIDATO', 'DS_ESTADO_CIVIL', 'DS_COR_RACA','DS_GRAU_INSTRUCAO','DS_OCUPACAO','VR_DESPESA_MAX_CAMPANHA','ST_REELEICAO','DS_SITUACAO_CANDIDATURA'])"
   ]
  },
  {
   "cell_type": "markdown",
   "metadata": {},
   "source": [
    "## Visualização da estrutura do DataFrame de 2016 e 2020"
   ]
  },
  {
   "cell_type": "code",
   "execution_count": 15,
   "metadata": {},
   "outputs": [
    {
     "name": "stdout",
     "output_type": "stream",
     "text": [
      "<class 'pandas.core.frame.DataFrame'>\n",
      "RangeIndex: 86779 entries, 0 to 86778\n",
      "Data columns (total 10 columns):\n",
      " #   Column                   Non-Null Count  Dtype \n",
      "---  ------                   --------------  ----- \n",
      " 0   NM_UE                    86779 non-null  object\n",
      " 1   NM_CANDIDATO             86779 non-null  object\n",
      " 2   DS_SITUACAO_CANDIDATURA  86779 non-null  object\n",
      " 3   DS_GENERO                86779 non-null  object\n",
      " 4   DS_GRAU_INSTRUCAO        86779 non-null  object\n",
      " 5   DS_ESTADO_CIVIL          86779 non-null  object\n",
      " 6   DS_COR_RACA              86779 non-null  object\n",
      " 7   DS_OCUPACAO              86779 non-null  object\n",
      " 8   VR_DESPESA_MAX_CAMPANHA  86779 non-null  int64 \n",
      " 9   ST_REELEICAO             86779 non-null  object\n",
      "dtypes: int64(1), object(9)\n",
      "memory usage: 6.6+ MB\n"
     ]
    }
   ],
   "source": [
    "candidata_vereadora_2016.info()"
   ]
  },
  {
   "cell_type": "code",
   "execution_count": 14,
   "metadata": {},
   "outputs": [
    {
     "name": "stdout",
     "output_type": "stream",
     "text": [
      "<class 'pandas.core.frame.DataFrame'>\n",
      "RangeIndex: 93330 entries, 0 to 93329\n",
      "Data columns (total 10 columns):\n",
      " #   Column                   Non-Null Count  Dtype \n",
      "---  ------                   --------------  ----- \n",
      " 0   NM_UE                    93330 non-null  object\n",
      " 1   NM_CANDIDATO             93330 non-null  object\n",
      " 2   DS_SITUACAO_CANDIDATURA  93330 non-null  object\n",
      " 3   DS_GENERO                93330 non-null  object\n",
      " 4   DS_GRAU_INSTRUCAO        93330 non-null  object\n",
      " 5   DS_ESTADO_CIVIL          93330 non-null  object\n",
      " 6   DS_COR_RACA              93330 non-null  object\n",
      " 7   DS_OCUPACAO              93330 non-null  object\n",
      " 8   VR_DESPESA_MAX_CAMPANHA  93330 non-null  int64 \n",
      " 9   ST_REELEICAO             93330 non-null  object\n",
      "dtypes: int64(1), object(9)\n",
      "memory usage: 7.1+ MB\n"
     ]
    }
   ],
   "source": [
    "candidata_vereadora_2020.info()"
   ]
  },
  {
   "cell_type": "markdown",
   "metadata": {},
   "source": [
    "## Quantidade de Candidatos a vereadores nos anos de 2016 e 2020"
   ]
  },
  {
   "cell_type": "code",
   "execution_count": 6,
   "metadata": {},
   "outputs": [
    {
     "name": "stdout",
     "output_type": "stream",
     "text": [
      "MASCULINO         59024\n",
      "FEMININO          27736\n",
      "NÃO DIVULGÁVEL       19\n",
      "Name: DS_GENERO, dtype: int64\n"
     ]
    }
   ],
   "source": [
    "qtd = candidata_vereadora_2016['DS_GENERO'].value_counts()\n",
    "print(qtd)"
   ]
  },
  {
   "cell_type": "code",
   "execution_count": 28,
   "metadata": {},
   "outputs": [
    {
     "name": "stdout",
     "output_type": "stream",
     "text": [
      "MASCULINO    62107\n",
      "FEMININO     31223\n",
      "Name: DS_GENERO, dtype: int64\n"
     ]
    }
   ],
   "source": [
    "qtd = candidata_vereadora_2020['DS_GENERO'].value_counts()\n",
    "print(qtd)"
   ]
  },
  {
   "cell_type": "markdown",
   "metadata": {},
   "source": [
    "### Porcentagem dos candidatos do sexo feminino e masculino"
   ]
  },
  {
   "cell_type": "code",
   "execution_count": 30,
   "metadata": {},
   "outputs": [
    {
     "data": {
      "image/png": "[encoded data removed]",
      "text/plain": [
       "<Figure size 432x288 with 1 Axes>"
      ]
     },
     "metadata": {
      "needs_background": "light"
     },
     "output_type": "display_data"
    }
   ],
   "source": [
    "cpv_sexo_2016 = candidata_vereadora_2016.query('NM_UE == \"CAÇAPAVA\"')\n",
    "cpv_sexo_2016['DS_GENERO'].value_counts(normalize=True).plot(kind='bar',title='Gênero do Candidato');"
   ]
  },
  {
   "cell_type": "code",
   "execution_count": 29,
   "metadata": {},
   "outputs": [
    {
     "data": {
      "image/png": "[encoded data removed]",
      "text/plain": [
       "<Figure size 432x288 with 1 Axes>"
      ]
     },
     "metadata": {
      "needs_background": "light"
     },
     "output_type": "display_data"
    }
   ],
   "source": [
    "cpv_sexo_2020 = candidata_vereadora_2020.query('NM_UE == \"CAÇAPAVA\"')\n",
    "cpv_sexo_2020['DS_GENERO'].value_counts(normalize=True).plot(kind='bar',title='Gênero do Candidato');"
   ]
  },
  {
   "cell_type": "markdown",
   "metadata": {},
   "source": [
    "## Filtrando as colunas com os dados dos candidatos do sexo feminino, cidade de Caçapava e candidatura apta dos anos de 2016 e 2020"
   ]
  },
  {
   "cell_type": "code",
   "execution_count": 32,
   "metadata": {},
   "outputs": [
    {
     "data": {
      "text/html": [
       "<div>\n",
       "<style scoped>\n",
       "    .dataframe tbody tr th:only-of-type {\n",
       "        vertical-align: middle;\n",
       "    }\n",
       "\n",
       "    .dataframe tbody tr th {\n",
       "        vertical-align: top;\n",
       "    }\n",
       "\n",
       "    .dataframe thead th {\n",
       "        text-align: right;\n",
       "    }\n",
       "</style>\n",
       "<table border=\"1\" class=\"dataframe\">\n",
       "  <thead>\n",
       "    <tr style=\"text-align: right;\">\n",
       "      <th></th>\n",
       "      <th>NM_UE</th>\n",
       "      <th>NM_CANDIDATO</th>\n",
       "      <th>DS_SITUACAO_CANDIDATURA</th>\n",
       "      <th>DS_GENERO</th>\n",
       "      <th>DS_GRAU_INSTRUCAO</th>\n",
       "      <th>DS_ESTADO_CIVIL</th>\n",
       "      <th>DS_COR_RACA</th>\n",
       "      <th>DS_OCUPACAO</th>\n",
       "      <th>VR_DESPESA_MAX_CAMPANHA</th>\n",
       "      <th>ST_REELEICAO</th>\n",
       "    </tr>\n",
       "  </thead>\n",
       "  <tbody>\n",
       "    <tr>\n",
       "      <th>2020</th>\n",
       "      <td>CAÇAPAVA</td>\n",
       "      <td>APARECIDA DE OLIVEIRA JULIO MONTEIRO</td>\n",
       "      <td>APTO</td>\n",
       "      <td>FEMININO</td>\n",
       "      <td>ENSINO FUNDAMENTAL COMPLETO</td>\n",
       "      <td>CASADO(A)</td>\n",
       "      <td>PRETA</td>\n",
       "      <td>FEIRANTE, AMBULANTE E MASCATE</td>\n",
       "      <td>-1</td>\n",
       "      <td>N</td>\n",
       "    </tr>\n",
       "    <tr>\n",
       "      <th>3295</th>\n",
       "      <td>CAÇAPAVA</td>\n",
       "      <td>CREUSA EUNICE FRANÇA</td>\n",
       "      <td>APTO</td>\n",
       "      <td>FEMININO</td>\n",
       "      <td>ENSINO FUNDAMENTAL COMPLETO</td>\n",
       "      <td>SOLTEIRO(A)</td>\n",
       "      <td>BRANCA</td>\n",
       "      <td>COMERCIANTE</td>\n",
       "      <td>0</td>\n",
       "      <td>N</td>\n",
       "    </tr>\n",
       "    <tr>\n",
       "      <th>3355</th>\n",
       "      <td>CAÇAPAVA</td>\n",
       "      <td>MARCIA DOS SANTOS ULLIANI</td>\n",
       "      <td>APTO</td>\n",
       "      <td>FEMININO</td>\n",
       "      <td>SUPERIOR COMPLETO</td>\n",
       "      <td>CASADO(A)</td>\n",
       "      <td>PRETA</td>\n",
       "      <td>ASSISTENTE SOCIAL</td>\n",
       "      <td>0</td>\n",
       "      <td>N</td>\n",
       "    </tr>\n",
       "    <tr>\n",
       "      <th>4567</th>\n",
       "      <td>CAÇAPAVA</td>\n",
       "      <td>DALILA MAGALI RODRIGUES PENTEADO</td>\n",
       "      <td>APTO</td>\n",
       "      <td>FEMININO</td>\n",
       "      <td>SUPERIOR COMPLETO</td>\n",
       "      <td>DIVORCIADO(A)</td>\n",
       "      <td>BRANCA</td>\n",
       "      <td>SERVIDOR PÚBLICO MUNICIPAL</td>\n",
       "      <td>-1</td>\n",
       "      <td>N</td>\n",
       "    </tr>\n",
       "    <tr>\n",
       "      <th>5971</th>\n",
       "      <td>CAÇAPAVA</td>\n",
       "      <td>MARIA ANGÉLICA GIOVANELLI</td>\n",
       "      <td>APTO</td>\n",
       "      <td>FEMININO</td>\n",
       "      <td>SUPERIOR COMPLETO</td>\n",
       "      <td>DIVORCIADO(A)</td>\n",
       "      <td>BRANCA</td>\n",
       "      <td>SERVIDOR PÚBLICO MUNICIPAL</td>\n",
       "      <td>-1</td>\n",
       "      <td>N</td>\n",
       "    </tr>\n",
       "    <tr>\n",
       "      <th>...</th>\n",
       "      <td>...</td>\n",
       "      <td>...</td>\n",
       "      <td>...</td>\n",
       "      <td>...</td>\n",
       "      <td>...</td>\n",
       "      <td>...</td>\n",
       "      <td>...</td>\n",
       "      <td>...</td>\n",
       "      <td>...</td>\n",
       "      <td>...</td>\n",
       "    </tr>\n",
       "    <tr>\n",
       "      <th>83199</th>\n",
       "      <td>CAÇAPAVA</td>\n",
       "      <td>ROBERTA MARIA DOS SANTOS SA CAMPOS</td>\n",
       "      <td>APTO</td>\n",
       "      <td>FEMININO</td>\n",
       "      <td>SUPERIOR INCOMPLETO</td>\n",
       "      <td>SOLTEIRO(A)</td>\n",
       "      <td>BRANCA</td>\n",
       "      <td>AGENTE DE VIAGEM</td>\n",
       "      <td>-1</td>\n",
       "      <td>N</td>\n",
       "    </tr>\n",
       "    <tr>\n",
       "      <th>84286</th>\n",
       "      <td>CAÇAPAVA</td>\n",
       "      <td>ARIANE FERREIRA DA SILVA SANTOS</td>\n",
       "      <td>APTO</td>\n",
       "      <td>FEMININO</td>\n",
       "      <td>ENSINO MÉDIO COMPLETO</td>\n",
       "      <td>CASADO(A)</td>\n",
       "      <td>PARDA</td>\n",
       "      <td>OUTROS</td>\n",
       "      <td>-1</td>\n",
       "      <td>N</td>\n",
       "    </tr>\n",
       "    <tr>\n",
       "      <th>84935</th>\n",
       "      <td>CAÇAPAVA</td>\n",
       "      <td>AUGUSTA DO ROSÁRIO FAUST</td>\n",
       "      <td>APTO</td>\n",
       "      <td>FEMININO</td>\n",
       "      <td>ENSINO MÉDIO COMPLETO</td>\n",
       "      <td>CASADO(A)</td>\n",
       "      <td>PARDA</td>\n",
       "      <td>ASTRÔNOMO</td>\n",
       "      <td>-1</td>\n",
       "      <td>N</td>\n",
       "    </tr>\n",
       "    <tr>\n",
       "      <th>85271</th>\n",
       "      <td>CAÇAPAVA</td>\n",
       "      <td>ROSA DE ASSIS SALLES</td>\n",
       "      <td>APTO</td>\n",
       "      <td>FEMININO</td>\n",
       "      <td>ENSINO MÉDIO COMPLETO</td>\n",
       "      <td>CASADO(A)</td>\n",
       "      <td>BRANCA</td>\n",
       "      <td>DONA DE CASA</td>\n",
       "      <td>-1</td>\n",
       "      <td>N</td>\n",
       "    </tr>\n",
       "    <tr>\n",
       "      <th>85872</th>\n",
       "      <td>CAÇAPAVA</td>\n",
       "      <td>HOSANA APARECIDA BRAZ LEOPOLDINA</td>\n",
       "      <td>APTO</td>\n",
       "      <td>FEMININO</td>\n",
       "      <td>ENSINO FUNDAMENTAL COMPLETO</td>\n",
       "      <td>CASADO(A)</td>\n",
       "      <td>PRETA</td>\n",
       "      <td>COZINHEIRO</td>\n",
       "      <td>-1</td>\n",
       "      <td>N</td>\n",
       "    </tr>\n",
       "  </tbody>\n",
       "</table>\n",
       "<p>66 rows × 10 columns</p>\n",
       "</div>"
      ],
      "text/plain": [
       "          NM_UE                          NM_CANDIDATO DS_SITUACAO_CANDIDATURA  \\\n",
       "2020   CAÇAPAVA  APARECIDA DE OLIVEIRA JULIO MONTEIRO                    APTO   \n",
       "3295   CAÇAPAVA                  CREUSA EUNICE FRANÇA                    APTO   \n",
       "3355   CAÇAPAVA             MARCIA DOS SANTOS ULLIANI                    APTO   \n",
       "4567   CAÇAPAVA      DALILA MAGALI RODRIGUES PENTEADO                    APTO   \n",
       "5971   CAÇAPAVA             MARIA ANGÉLICA GIOVANELLI                    APTO   \n",
       "...         ...                                   ...                     ...   \n",
       "83199  CAÇAPAVA    ROBERTA MARIA DOS SANTOS SA CAMPOS                    APTO   \n",
       "84286  CAÇAPAVA       ARIANE FERREIRA DA SILVA SANTOS                    APTO   \n",
       "84935  CAÇAPAVA              AUGUSTA DO ROSÁRIO FAUST                    APTO   \n",
       "85271  CAÇAPAVA                  ROSA DE ASSIS SALLES                    APTO   \n",
       "85872  CAÇAPAVA      HOSANA APARECIDA BRAZ LEOPOLDINA                    APTO   \n",
       "\n",
       "      DS_GENERO            DS_GRAU_INSTRUCAO DS_ESTADO_CIVIL DS_COR_RACA  \\\n",
       "2020   FEMININO  ENSINO FUNDAMENTAL COMPLETO       CASADO(A)       PRETA   \n",
       "3295   FEMININO  ENSINO FUNDAMENTAL COMPLETO     SOLTEIRO(A)      BRANCA   \n",
       "3355   FEMININO            SUPERIOR COMPLETO       CASADO(A)       PRETA   \n",
       "4567   FEMININO            SUPERIOR COMPLETO   DIVORCIADO(A)      BRANCA   \n",
       "5971   FEMININO            SUPERIOR COMPLETO   DIVORCIADO(A)      BRANCA   \n",
       "...         ...                          ...             ...         ...   \n",
       "83199  FEMININO          SUPERIOR INCOMPLETO     SOLTEIRO(A)      BRANCA   \n",
       "84286  FEMININO        ENSINO MÉDIO COMPLETO       CASADO(A)       PARDA   \n",
       "84935  FEMININO        ENSINO MÉDIO COMPLETO       CASADO(A)       PARDA   \n",
       "85271  FEMININO        ENSINO MÉDIO COMPLETO       CASADO(A)      BRANCA   \n",
       "85872  FEMININO  ENSINO FUNDAMENTAL COMPLETO       CASADO(A)       PRETA   \n",
       "\n",
       "                         DS_OCUPACAO  VR_DESPESA_MAX_CAMPANHA ST_REELEICAO  \n",
       "2020   FEIRANTE, AMBULANTE E MASCATE                       -1            N  \n",
       "3295                     COMERCIANTE                        0            N  \n",
       "3355               ASSISTENTE SOCIAL                        0            N  \n",
       "4567      SERVIDOR PÚBLICO MUNICIPAL                       -1            N  \n",
       "5971      SERVIDOR PÚBLICO MUNICIPAL                       -1            N  \n",
       "...                              ...                      ...          ...  \n",
       "83199               AGENTE DE VIAGEM                       -1            N  \n",
       "84286                         OUTROS                       -1            N  \n",
       "84935                      ASTRÔNOMO                       -1            N  \n",
       "85271                   DONA DE CASA                       -1            N  \n",
       "85872                     COZINHEIRO                       -1            N  \n",
       "\n",
       "[66 rows x 10 columns]"
      ]
     },
     "execution_count": 32,
     "metadata": {},
     "output_type": "execute_result"
    }
   ],
   "source": [
    "cpv_2016 = candidata_vereadora_2016.query('DS_GENERO == \"FEMININO\" & NM_UE == \"CAÇAPAVA\" & DS_SITUACAO_CANDIDATURA == \"APTO\"')\n",
    "cpv_2016"
   ]
  },
  {
   "cell_type": "code",
   "execution_count": 31,
   "metadata": {},
   "outputs": [
    {
     "data": {
      "text/html": [
       "<div>\n",
       "<style scoped>\n",
       "    .dataframe tbody tr th:only-of-type {\n",
       "        vertical-align: middle;\n",
       "    }\n",
       "\n",
       "    .dataframe tbody tr th {\n",
       "        vertical-align: top;\n",
       "    }\n",
       "\n",
       "    .dataframe thead th {\n",
       "        text-align: right;\n",
       "    }\n",
       "</style>\n",
       "<table border=\"1\" class=\"dataframe\">\n",
       "  <thead>\n",
       "    <tr style=\"text-align: right;\">\n",
       "      <th></th>\n",
       "      <th>NM_UE</th>\n",
       "      <th>NM_CANDIDATO</th>\n",
       "      <th>DS_SITUACAO_CANDIDATURA</th>\n",
       "      <th>DS_GENERO</th>\n",
       "      <th>DS_GRAU_INSTRUCAO</th>\n",
       "      <th>DS_ESTADO_CIVIL</th>\n",
       "      <th>DS_COR_RACA</th>\n",
       "      <th>DS_OCUPACAO</th>\n",
       "      <th>VR_DESPESA_MAX_CAMPANHA</th>\n",
       "      <th>ST_REELEICAO</th>\n",
       "    </tr>\n",
       "  </thead>\n",
       "  <tbody>\n",
       "    <tr>\n",
       "      <th>1802</th>\n",
       "      <td>CAÇAPAVA</td>\n",
       "      <td>HORACELIA DE FATIMA TRINDADE OLIVEIRA</td>\n",
       "      <td>APTO</td>\n",
       "      <td>FEMININO</td>\n",
       "      <td>ENSINO MÉDIO COMPLETO</td>\n",
       "      <td>CASADO(A)</td>\n",
       "      <td>BRANCA</td>\n",
       "      <td>DONA DE CASA</td>\n",
       "      <td>31777</td>\n",
       "      <td>N</td>\n",
       "    </tr>\n",
       "    <tr>\n",
       "      <th>2319</th>\n",
       "      <td>CAÇAPAVA</td>\n",
       "      <td>RAQUEL STELA FONSECA</td>\n",
       "      <td>APTO</td>\n",
       "      <td>FEMININO</td>\n",
       "      <td>ENSINO MÉDIO COMPLETO</td>\n",
       "      <td>SOLTEIRO(A)</td>\n",
       "      <td>BRANCA</td>\n",
       "      <td>OUTROS</td>\n",
       "      <td>31777</td>\n",
       "      <td>N</td>\n",
       "    </tr>\n",
       "    <tr>\n",
       "      <th>5184</th>\n",
       "      <td>CAÇAPAVA</td>\n",
       "      <td>DANIELE CRISTINE GALDINO SIQUEIRA</td>\n",
       "      <td>APTO</td>\n",
       "      <td>FEMININO</td>\n",
       "      <td>SUPERIOR COMPLETO</td>\n",
       "      <td>CASADO(A)</td>\n",
       "      <td>BRANCA</td>\n",
       "      <td>RELAÇÕES-PÚBLICAS</td>\n",
       "      <td>31777</td>\n",
       "      <td>N</td>\n",
       "    </tr>\n",
       "    <tr>\n",
       "      <th>6049</th>\n",
       "      <td>CAÇAPAVA</td>\n",
       "      <td>MARTHA MARINA THOMAZ DE AQUINO IVO</td>\n",
       "      <td>APTO</td>\n",
       "      <td>FEMININO</td>\n",
       "      <td>SUPERIOR COMPLETO</td>\n",
       "      <td>CASADO(A)</td>\n",
       "      <td>BRANCA</td>\n",
       "      <td>APOSENTADO (EXCETO SERVIDOR PÚBLICO)</td>\n",
       "      <td>31777</td>\n",
       "      <td>N</td>\n",
       "    </tr>\n",
       "    <tr>\n",
       "      <th>6268</th>\n",
       "      <td>CAÇAPAVA</td>\n",
       "      <td>RITA DE CASSIA LIMA AFONSO ALENCAR</td>\n",
       "      <td>APTO</td>\n",
       "      <td>FEMININO</td>\n",
       "      <td>SUPERIOR COMPLETO</td>\n",
       "      <td>CASADO(A)</td>\n",
       "      <td>BRANCA</td>\n",
       "      <td>AGENTE ADMINISTRATIVO</td>\n",
       "      <td>31777</td>\n",
       "      <td>N</td>\n",
       "    </tr>\n",
       "    <tr>\n",
       "      <th>12890</th>\n",
       "      <td>CAÇAPAVA</td>\n",
       "      <td>CAMILA APARECIDA ALVES MIGUEL</td>\n",
       "      <td>APTO</td>\n",
       "      <td>FEMININO</td>\n",
       "      <td>SUPERIOR COMPLETO</td>\n",
       "      <td>CASADO(A)</td>\n",
       "      <td>BRANCA</td>\n",
       "      <td>BANCÁRIO E ECONOMIÁRIO</td>\n",
       "      <td>31777</td>\n",
       "      <td>N</td>\n",
       "    </tr>\n",
       "    <tr>\n",
       "      <th>14172</th>\n",
       "      <td>CAÇAPAVA</td>\n",
       "      <td>SHIRLEY REGINA SANTOS DE ABREU</td>\n",
       "      <td>APTO</td>\n",
       "      <td>FEMININO</td>\n",
       "      <td>ENSINO FUNDAMENTAL COMPLETO</td>\n",
       "      <td>CASADO(A)</td>\n",
       "      <td>BRANCA</td>\n",
       "      <td>EMPRESÁRIO</td>\n",
       "      <td>31777</td>\n",
       "      <td>N</td>\n",
       "    </tr>\n",
       "    <tr>\n",
       "      <th>14203</th>\n",
       "      <td>CAÇAPAVA</td>\n",
       "      <td>MARCIA ALVES CORREIA GOMES</td>\n",
       "      <td>APTO</td>\n",
       "      <td>FEMININO</td>\n",
       "      <td>ENSINO MÉDIO COMPLETO</td>\n",
       "      <td>DIVORCIADO(A)</td>\n",
       "      <td>BRANCA</td>\n",
       "      <td>CORRETOR DE IMÓVEIS, SEGUROS, TÍTULOS E VALORES</td>\n",
       "      <td>31777</td>\n",
       "      <td>N</td>\n",
       "    </tr>\n",
       "    <tr>\n",
       "      <th>17536</th>\n",
       "      <td>CAÇAPAVA</td>\n",
       "      <td>ELISABETE NATALI ALVARENGA</td>\n",
       "      <td>APTO</td>\n",
       "      <td>FEMININO</td>\n",
       "      <td>ENSINO MÉDIO COMPLETO</td>\n",
       "      <td>SOLTEIRO(A)</td>\n",
       "      <td>PARDA</td>\n",
       "      <td>GERENTE</td>\n",
       "      <td>31777</td>\n",
       "      <td>N</td>\n",
       "    </tr>\n",
       "    <tr>\n",
       "      <th>17741</th>\n",
       "      <td>CAÇAPAVA</td>\n",
       "      <td>ADRIANA CRISTINA GABRIEL</td>\n",
       "      <td>APTO</td>\n",
       "      <td>FEMININO</td>\n",
       "      <td>ENSINO MÉDIO COMPLETO</td>\n",
       "      <td>SOLTEIRO(A)</td>\n",
       "      <td>BRANCA</td>\n",
       "      <td>OUTROS</td>\n",
       "      <td>31777</td>\n",
       "      <td>N</td>\n",
       "    </tr>\n",
       "    <tr>\n",
       "      <th>18985</th>\n",
       "      <td>CAÇAPAVA</td>\n",
       "      <td>ROSANGELA FERREIRA DE PAULA</td>\n",
       "      <td>APTO</td>\n",
       "      <td>FEMININO</td>\n",
       "      <td>ENSINO MÉDIO COMPLETO</td>\n",
       "      <td>CASADO(A)</td>\n",
       "      <td>BRANCA</td>\n",
       "      <td>DONA DE CASA</td>\n",
       "      <td>31777</td>\n",
       "      <td>N</td>\n",
       "    </tr>\n",
       "    <tr>\n",
       "      <th>19577</th>\n",
       "      <td>CAÇAPAVA</td>\n",
       "      <td>SILVANA PEIXOTO BARBOSA</td>\n",
       "      <td>APTO</td>\n",
       "      <td>FEMININO</td>\n",
       "      <td>ENSINO FUNDAMENTAL COMPLETO</td>\n",
       "      <td>CASADO(A)</td>\n",
       "      <td>BRANCA</td>\n",
       "      <td>DONA DE CASA</td>\n",
       "      <td>31777</td>\n",
       "      <td>N</td>\n",
       "    </tr>\n",
       "    <tr>\n",
       "      <th>20393</th>\n",
       "      <td>CAÇAPAVA</td>\n",
       "      <td>VALERIA APARECIDA BONIFACIO</td>\n",
       "      <td>APTO</td>\n",
       "      <td>FEMININO</td>\n",
       "      <td>ENSINO MÉDIO COMPLETO</td>\n",
       "      <td>SOLTEIRO(A)</td>\n",
       "      <td>PRETA</td>\n",
       "      <td>ATLETA PROFISSIONAL E TÉCNICO EM DESPORTOS</td>\n",
       "      <td>31777</td>\n",
       "      <td>N</td>\n",
       "    </tr>\n",
       "    <tr>\n",
       "      <th>20636</th>\n",
       "      <td>CAÇAPAVA</td>\n",
       "      <td>MARIA CLARA MAMEDE</td>\n",
       "      <td>APTO</td>\n",
       "      <td>FEMININO</td>\n",
       "      <td>SUPERIOR COMPLETO</td>\n",
       "      <td>CASADO(A)</td>\n",
       "      <td>BRANCA</td>\n",
       "      <td>PROFESSOR DE ENSINO MÉDIO</td>\n",
       "      <td>31777</td>\n",
       "      <td>N</td>\n",
       "    </tr>\n",
       "    <tr>\n",
       "      <th>24137</th>\n",
       "      <td>CAÇAPAVA</td>\n",
       "      <td>ROSANA APARECIDA TAVARES</td>\n",
       "      <td>APTO</td>\n",
       "      <td>FEMININO</td>\n",
       "      <td>ENSINO MÉDIO COMPLETO</td>\n",
       "      <td>DIVORCIADO(A)</td>\n",
       "      <td>BRANCA</td>\n",
       "      <td>CABELEIREIRO E BARBEIRO</td>\n",
       "      <td>31777</td>\n",
       "      <td>N</td>\n",
       "    </tr>\n",
       "    <tr>\n",
       "      <th>25339</th>\n",
       "      <td>CAÇAPAVA</td>\n",
       "      <td>ANAPAULA FERREIRA PEDRO</td>\n",
       "      <td>APTO</td>\n",
       "      <td>FEMININO</td>\n",
       "      <td>SUPERIOR COMPLETO</td>\n",
       "      <td>CASADO(A)</td>\n",
       "      <td>BRANCA</td>\n",
       "      <td>ODONTÓLOGO</td>\n",
       "      <td>-1</td>\n",
       "      <td>N</td>\n",
       "    </tr>\n",
       "    <tr>\n",
       "      <th>25750</th>\n",
       "      <td>CAÇAPAVA</td>\n",
       "      <td>MARCIA LINO MOREIRA</td>\n",
       "      <td>APTO</td>\n",
       "      <td>FEMININO</td>\n",
       "      <td>SUPERIOR COMPLETO</td>\n",
       "      <td>DIVORCIADO(A)</td>\n",
       "      <td>BRANCA</td>\n",
       "      <td>SERVIDOR PÚBLICO MUNICIPAL</td>\n",
       "      <td>31777</td>\n",
       "      <td>N</td>\n",
       "    </tr>\n",
       "    <tr>\n",
       "      <th>27376</th>\n",
       "      <td>CAÇAPAVA</td>\n",
       "      <td>GABRIELA NEVES ROSA</td>\n",
       "      <td>APTO</td>\n",
       "      <td>FEMININO</td>\n",
       "      <td>ENSINO MÉDIO COMPLETO</td>\n",
       "      <td>SOLTEIRO(A)</td>\n",
       "      <td>BRANCA</td>\n",
       "      <td>OUTROS</td>\n",
       "      <td>31777</td>\n",
       "      <td>N</td>\n",
       "    </tr>\n",
       "    <tr>\n",
       "      <th>27460</th>\n",
       "      <td>CAÇAPAVA</td>\n",
       "      <td>ALESSANDRA FARIA REZENDE</td>\n",
       "      <td>APTO</td>\n",
       "      <td>FEMININO</td>\n",
       "      <td>ENSINO MÉDIO COMPLETO</td>\n",
       "      <td>SOLTEIRO(A)</td>\n",
       "      <td>PARDA</td>\n",
       "      <td>REPRESENTANTE COMERCIAL</td>\n",
       "      <td>31777</td>\n",
       "      <td>N</td>\n",
       "    </tr>\n",
       "    <tr>\n",
       "      <th>27799</th>\n",
       "      <td>CAÇAPAVA</td>\n",
       "      <td>MIRTES COELHO ORTIZ DE GODOY</td>\n",
       "      <td>APTO</td>\n",
       "      <td>FEMININO</td>\n",
       "      <td>ENSINO MÉDIO COMPLETO</td>\n",
       "      <td>SOLTEIRO(A)</td>\n",
       "      <td>PARDA</td>\n",
       "      <td>COMERCIANTE</td>\n",
       "      <td>31777</td>\n",
       "      <td>N</td>\n",
       "    </tr>\n",
       "    <tr>\n",
       "      <th>28719</th>\n",
       "      <td>CAÇAPAVA</td>\n",
       "      <td>LUCINÉIA DOS SANTOS</td>\n",
       "      <td>APTO</td>\n",
       "      <td>FEMININO</td>\n",
       "      <td>ENSINO MÉDIO COMPLETO</td>\n",
       "      <td>SOLTEIRO(A)</td>\n",
       "      <td>BRANCA</td>\n",
       "      <td>MANICURE E MAQUILADOR</td>\n",
       "      <td>31777</td>\n",
       "      <td>N</td>\n",
       "    </tr>\n",
       "    <tr>\n",
       "      <th>29240</th>\n",
       "      <td>CAÇAPAVA</td>\n",
       "      <td>AUGUSTA DO ROSARIO FAUST</td>\n",
       "      <td>APTO</td>\n",
       "      <td>FEMININO</td>\n",
       "      <td>ENSINO FUNDAMENTAL INCOMPLETO</td>\n",
       "      <td>CASADO(A)</td>\n",
       "      <td>BRANCA</td>\n",
       "      <td>COMERCIANTE</td>\n",
       "      <td>31777</td>\n",
       "      <td>N</td>\n",
       "    </tr>\n",
       "    <tr>\n",
       "      <th>30381</th>\n",
       "      <td>CAÇAPAVA</td>\n",
       "      <td>SILMARA GUEDES FERREIRA DINIZ</td>\n",
       "      <td>APTO</td>\n",
       "      <td>FEMININO</td>\n",
       "      <td>SUPERIOR COMPLETO</td>\n",
       "      <td>CASADO(A)</td>\n",
       "      <td>BRANCA</td>\n",
       "      <td>COMERCIANTE</td>\n",
       "      <td>424108</td>\n",
       "      <td>N</td>\n",
       "    </tr>\n",
       "    <tr>\n",
       "      <th>37042</th>\n",
       "      <td>CAÇAPAVA</td>\n",
       "      <td>ANA LUCIA PEIXOTO ORTIZ</td>\n",
       "      <td>APTO</td>\n",
       "      <td>FEMININO</td>\n",
       "      <td>SUPERIOR COMPLETO</td>\n",
       "      <td>CASADO(A)</td>\n",
       "      <td>BRANCA</td>\n",
       "      <td>SERVIDOR PÚBLICO MUNICIPAL</td>\n",
       "      <td>31777</td>\n",
       "      <td>N</td>\n",
       "    </tr>\n",
       "    <tr>\n",
       "      <th>39219</th>\n",
       "      <td>CAÇAPAVA</td>\n",
       "      <td>JANAÍNA ROBERTA DE CASTRO COSTA</td>\n",
       "      <td>APTO</td>\n",
       "      <td>FEMININO</td>\n",
       "      <td>SUPERIOR COMPLETO</td>\n",
       "      <td>DIVORCIADO(A)</td>\n",
       "      <td>BRANCA</td>\n",
       "      <td>TELEFONISTA</td>\n",
       "      <td>31777</td>\n",
       "      <td>N</td>\n",
       "    </tr>\n",
       "    <tr>\n",
       "      <th>50037</th>\n",
       "      <td>CAÇAPAVA</td>\n",
       "      <td>MARIA APARECIDA MARINHO</td>\n",
       "      <td>APTO</td>\n",
       "      <td>FEMININO</td>\n",
       "      <td>ENSINO MÉDIO COMPLETO</td>\n",
       "      <td>SOLTEIRO(A)</td>\n",
       "      <td>PRETA</td>\n",
       "      <td>APOSENTADO (EXCETO SERVIDOR PÚBLICO)</td>\n",
       "      <td>31777</td>\n",
       "      <td>N</td>\n",
       "    </tr>\n",
       "    <tr>\n",
       "      <th>51201</th>\n",
       "      <td>CAÇAPAVA</td>\n",
       "      <td>PATRÍCIA HELENA MATHIAS DE OLIVEIRA</td>\n",
       "      <td>APTO</td>\n",
       "      <td>FEMININO</td>\n",
       "      <td>ENSINO MÉDIO COMPLETO</td>\n",
       "      <td>CASADO(A)</td>\n",
       "      <td>PARDA</td>\n",
       "      <td>DESPACHANTE</td>\n",
       "      <td>31777</td>\n",
       "      <td>N</td>\n",
       "    </tr>\n",
       "    <tr>\n",
       "      <th>52732</th>\n",
       "      <td>CAÇAPAVA</td>\n",
       "      <td>THAÍS GONÇALVES DIAS TORRES GARCIA</td>\n",
       "      <td>APTO</td>\n",
       "      <td>FEMININO</td>\n",
       "      <td>ENSINO MÉDIO COMPLETO</td>\n",
       "      <td>CASADO(A)</td>\n",
       "      <td>BRANCA</td>\n",
       "      <td>PROFESSOR DE ENSINO FUNDAMENTAL</td>\n",
       "      <td>31777</td>\n",
       "      <td>N</td>\n",
       "    </tr>\n",
       "    <tr>\n",
       "      <th>53586</th>\n",
       "      <td>CAÇAPAVA</td>\n",
       "      <td>SONIA SANTOS REIS</td>\n",
       "      <td>APTO</td>\n",
       "      <td>FEMININO</td>\n",
       "      <td>SUPERIOR COMPLETO</td>\n",
       "      <td>SOLTEIRO(A)</td>\n",
       "      <td>BRANCA</td>\n",
       "      <td>PROFESSOR DE ENSINO FUNDAMENTAL</td>\n",
       "      <td>31777</td>\n",
       "      <td>N</td>\n",
       "    </tr>\n",
       "    <tr>\n",
       "      <th>54516</th>\n",
       "      <td>CAÇAPAVA</td>\n",
       "      <td>SILVANA MOREIRA EUGENIO DE SOUZA</td>\n",
       "      <td>APTO</td>\n",
       "      <td>FEMININO</td>\n",
       "      <td>ENSINO MÉDIO COMPLETO</td>\n",
       "      <td>DIVORCIADO(A)</td>\n",
       "      <td>BRANCA</td>\n",
       "      <td>OUTROS</td>\n",
       "      <td>31777</td>\n",
       "      <td>N</td>\n",
       "    </tr>\n",
       "    <tr>\n",
       "      <th>54522</th>\n",
       "      <td>CAÇAPAVA</td>\n",
       "      <td>LUCIANA DIAS DE CAMARGO</td>\n",
       "      <td>APTO</td>\n",
       "      <td>FEMININO</td>\n",
       "      <td>ENSINO MÉDIO COMPLETO</td>\n",
       "      <td>SOLTEIRO(A)</td>\n",
       "      <td>BRANCA</td>\n",
       "      <td>OUTROS</td>\n",
       "      <td>31777</td>\n",
       "      <td>N</td>\n",
       "    </tr>\n",
       "    <tr>\n",
       "      <th>54652</th>\n",
       "      <td>CAÇAPAVA</td>\n",
       "      <td>SUELI MORALES</td>\n",
       "      <td>APTO</td>\n",
       "      <td>FEMININO</td>\n",
       "      <td>SUPERIOR COMPLETO</td>\n",
       "      <td>DIVORCIADO(A)</td>\n",
       "      <td>BRANCA</td>\n",
       "      <td>ALFAIATE E COSTUREIRO</td>\n",
       "      <td>31777</td>\n",
       "      <td>N</td>\n",
       "    </tr>\n",
       "    <tr>\n",
       "      <th>54659</th>\n",
       "      <td>CAÇAPAVA</td>\n",
       "      <td>FERNANDA MOREIRA MILTON</td>\n",
       "      <td>APTO</td>\n",
       "      <td>FEMININO</td>\n",
       "      <td>SUPERIOR COMPLETO</td>\n",
       "      <td>SOLTEIRO(A)</td>\n",
       "      <td>BRANCA</td>\n",
       "      <td>COMERCIANTE</td>\n",
       "      <td>31777</td>\n",
       "      <td>N</td>\n",
       "    </tr>\n",
       "    <tr>\n",
       "      <th>54953</th>\n",
       "      <td>CAÇAPAVA</td>\n",
       "      <td>SUELI DE MOURA SANTOS</td>\n",
       "      <td>APTO</td>\n",
       "      <td>FEMININO</td>\n",
       "      <td>ENSINO MÉDIO COMPLETO</td>\n",
       "      <td>CASADO(A)</td>\n",
       "      <td>BRANCA</td>\n",
       "      <td>DONA DE CASA</td>\n",
       "      <td>31777</td>\n",
       "      <td>N</td>\n",
       "    </tr>\n",
       "    <tr>\n",
       "      <th>56989</th>\n",
       "      <td>CAÇAPAVA</td>\n",
       "      <td>EVELYN FERNANDA DE MOURA FERREIRA</td>\n",
       "      <td>APTO</td>\n",
       "      <td>FEMININO</td>\n",
       "      <td>SUPERIOR COMPLETO</td>\n",
       "      <td>SOLTEIRO(A)</td>\n",
       "      <td>BRANCA</td>\n",
       "      <td>EMPRESÁRIO</td>\n",
       "      <td>31777</td>\n",
       "      <td>N</td>\n",
       "    </tr>\n",
       "    <tr>\n",
       "      <th>58053</th>\n",
       "      <td>CAÇAPAVA</td>\n",
       "      <td>ANGELICA DE PAULO SILVA</td>\n",
       "      <td>APTO</td>\n",
       "      <td>FEMININO</td>\n",
       "      <td>SUPERIOR COMPLETO</td>\n",
       "      <td>SOLTEIRO(A)</td>\n",
       "      <td>BRANCA</td>\n",
       "      <td>PROFESSOR DE ENSINO FUNDAMENTAL</td>\n",
       "      <td>31777</td>\n",
       "      <td>N</td>\n",
       "    </tr>\n",
       "    <tr>\n",
       "      <th>59282</th>\n",
       "      <td>CAÇAPAVA</td>\n",
       "      <td>MARIA ISABEL MOREIRA LIMA DA SILVA</td>\n",
       "      <td>APTO</td>\n",
       "      <td>FEMININO</td>\n",
       "      <td>ENSINO FUNDAMENTAL INCOMPLETO</td>\n",
       "      <td>CASADO(A)</td>\n",
       "      <td>BRANCA</td>\n",
       "      <td>OUTROS</td>\n",
       "      <td>31777</td>\n",
       "      <td>N</td>\n",
       "    </tr>\n",
       "    <tr>\n",
       "      <th>68422</th>\n",
       "      <td>CAÇAPAVA</td>\n",
       "      <td>SANDRA REGINA BAPTISTA DOS SANTOS DA SILVA</td>\n",
       "      <td>APTO</td>\n",
       "      <td>FEMININO</td>\n",
       "      <td>SUPERIOR INCOMPLETO</td>\n",
       "      <td>CASADO(A)</td>\n",
       "      <td>PRETA</td>\n",
       "      <td>TÉCNICO DE ENFERMAGEM E ASSEMELHADOS (EXCETO E...</td>\n",
       "      <td>31777</td>\n",
       "      <td>N</td>\n",
       "    </tr>\n",
       "    <tr>\n",
       "      <th>69165</th>\n",
       "      <td>CAÇAPAVA</td>\n",
       "      <td>ISABEL CRISTINA CEZAR</td>\n",
       "      <td>APTO</td>\n",
       "      <td>FEMININO</td>\n",
       "      <td>SUPERIOR COMPLETO</td>\n",
       "      <td>SOLTEIRO(A)</td>\n",
       "      <td>BRANCA</td>\n",
       "      <td>MOTORISTA DE VEÍCULOS DE TRANSPORTE COLETIVO D...</td>\n",
       "      <td>31777</td>\n",
       "      <td>N</td>\n",
       "    </tr>\n",
       "    <tr>\n",
       "      <th>73146</th>\n",
       "      <td>CAÇAPAVA</td>\n",
       "      <td>ELAINE ASSIS SEIXAS</td>\n",
       "      <td>APTO</td>\n",
       "      <td>FEMININO</td>\n",
       "      <td>ENSINO MÉDIO COMPLETO</td>\n",
       "      <td>SOLTEIRO(A)</td>\n",
       "      <td>BRANCA</td>\n",
       "      <td>EMPRESÁRIO</td>\n",
       "      <td>31777</td>\n",
       "      <td>N</td>\n",
       "    </tr>\n",
       "    <tr>\n",
       "      <th>76245</th>\n",
       "      <td>CAÇAPAVA</td>\n",
       "      <td>TELMA DE FATIMA LIMA VIEIRA</td>\n",
       "      <td>APTO</td>\n",
       "      <td>FEMININO</td>\n",
       "      <td>ENSINO MÉDIO COMPLETO</td>\n",
       "      <td>DIVORCIADO(A)</td>\n",
       "      <td>BRANCA</td>\n",
       "      <td>OUTROS</td>\n",
       "      <td>31777</td>\n",
       "      <td>N</td>\n",
       "    </tr>\n",
       "    <tr>\n",
       "      <th>78842</th>\n",
       "      <td>CAÇAPAVA</td>\n",
       "      <td>SOLANGE LEAL DOS SANTOS</td>\n",
       "      <td>APTO</td>\n",
       "      <td>FEMININO</td>\n",
       "      <td>ENSINO MÉDIO COMPLETO</td>\n",
       "      <td>CASADO(A)</td>\n",
       "      <td>BRANCA</td>\n",
       "      <td>ASSISTENTE SOCIAL</td>\n",
       "      <td>31777</td>\n",
       "      <td>N</td>\n",
       "    </tr>\n",
       "    <tr>\n",
       "      <th>79248</th>\n",
       "      <td>CAÇAPAVA</td>\n",
       "      <td>MARIA TERESA NUNES LENCIONI</td>\n",
       "      <td>APTO</td>\n",
       "      <td>FEMININO</td>\n",
       "      <td>ENSINO MÉDIO COMPLETO</td>\n",
       "      <td>CASADO(A)</td>\n",
       "      <td>BRANCA</td>\n",
       "      <td>APOSENTADO (EXCETO SERVIDOR PÚBLICO)</td>\n",
       "      <td>31777</td>\n",
       "      <td>N</td>\n",
       "    </tr>\n",
       "    <tr>\n",
       "      <th>79987</th>\n",
       "      <td>CAÇAPAVA</td>\n",
       "      <td>MARIA GORETTI NERY SAMPAIO</td>\n",
       "      <td>APTO</td>\n",
       "      <td>FEMININO</td>\n",
       "      <td>SUPERIOR COMPLETO</td>\n",
       "      <td>SOLTEIRO(A)</td>\n",
       "      <td>PARDA</td>\n",
       "      <td>SERVIDOR PÚBLICO ESTADUAL</td>\n",
       "      <td>31777</td>\n",
       "      <td>N</td>\n",
       "    </tr>\n",
       "    <tr>\n",
       "      <th>80571</th>\n",
       "      <td>CAÇAPAVA</td>\n",
       "      <td>PRISCILA APARECIDA MARQUES DE PAULA</td>\n",
       "      <td>APTO</td>\n",
       "      <td>FEMININO</td>\n",
       "      <td>ENSINO MÉDIO COMPLETO</td>\n",
       "      <td>SOLTEIRO(A)</td>\n",
       "      <td>BRANCA</td>\n",
       "      <td>OUTROS</td>\n",
       "      <td>31777</td>\n",
       "      <td>N</td>\n",
       "    </tr>\n",
       "    <tr>\n",
       "      <th>80916</th>\n",
       "      <td>CAÇAPAVA</td>\n",
       "      <td>PATRICIA GUEDES NETO DAIR</td>\n",
       "      <td>APTO</td>\n",
       "      <td>FEMININO</td>\n",
       "      <td>SUPERIOR COMPLETO</td>\n",
       "      <td>CASADO(A)</td>\n",
       "      <td>BRANCA</td>\n",
       "      <td>FISIOTERAPEUTA E TERAPEUTA OCUPACIONAL</td>\n",
       "      <td>31777</td>\n",
       "      <td>N</td>\n",
       "    </tr>\n",
       "    <tr>\n",
       "      <th>80968</th>\n",
       "      <td>CAÇAPAVA</td>\n",
       "      <td>VANILDA DOS SANTOS CARLOTA</td>\n",
       "      <td>APTO</td>\n",
       "      <td>FEMININO</td>\n",
       "      <td>ENSINO MÉDIO COMPLETO</td>\n",
       "      <td>CASADO(A)</td>\n",
       "      <td>BRANCA</td>\n",
       "      <td>AGENTE DE SAÚDE E SANITARISTA</td>\n",
       "      <td>31777</td>\n",
       "      <td>N</td>\n",
       "    </tr>\n",
       "    <tr>\n",
       "      <th>81912</th>\n",
       "      <td>CAÇAPAVA</td>\n",
       "      <td>ANGELICA SIMÃO GALDINO DE CARVALHO ALVARENGA</td>\n",
       "      <td>APTO</td>\n",
       "      <td>FEMININO</td>\n",
       "      <td>SUPERIOR INCOMPLETO</td>\n",
       "      <td>CASADO(A)</td>\n",
       "      <td>BRANCA</td>\n",
       "      <td>GERENTE</td>\n",
       "      <td>31777</td>\n",
       "      <td>N</td>\n",
       "    </tr>\n",
       "    <tr>\n",
       "      <th>82852</th>\n",
       "      <td>CAÇAPAVA</td>\n",
       "      <td>FLAVIA MARILIA DA SILVA MELLO</td>\n",
       "      <td>APTO</td>\n",
       "      <td>FEMININO</td>\n",
       "      <td>ENSINO MÉDIO COMPLETO</td>\n",
       "      <td>SOLTEIRO(A)</td>\n",
       "      <td>PARDA</td>\n",
       "      <td>SECRETÁRIO E DATILÓGRAFO</td>\n",
       "      <td>31777</td>\n",
       "      <td>N</td>\n",
       "    </tr>\n",
       "    <tr>\n",
       "      <th>83955</th>\n",
       "      <td>CAÇAPAVA</td>\n",
       "      <td>WARUSKA CARLA DA CRUZ NEVES</td>\n",
       "      <td>APTO</td>\n",
       "      <td>FEMININO</td>\n",
       "      <td>ENSINO MÉDIO COMPLETO</td>\n",
       "      <td>SOLTEIRO(A)</td>\n",
       "      <td>BRANCA</td>\n",
       "      <td>OUTROS</td>\n",
       "      <td>31777</td>\n",
       "      <td>N</td>\n",
       "    </tr>\n",
       "    <tr>\n",
       "      <th>85567</th>\n",
       "      <td>CAÇAPAVA</td>\n",
       "      <td>FERNANDA RODRIGUES APPUGLIESE RIBEIRO</td>\n",
       "      <td>APTO</td>\n",
       "      <td>FEMININO</td>\n",
       "      <td>ENSINO MÉDIO COMPLETO</td>\n",
       "      <td>CASADO(A)</td>\n",
       "      <td>BRANCA</td>\n",
       "      <td>GERENTE</td>\n",
       "      <td>31777</td>\n",
       "      <td>N</td>\n",
       "    </tr>\n",
       "    <tr>\n",
       "      <th>88706</th>\n",
       "      <td>CAÇAPAVA</td>\n",
       "      <td>MARIA DA CONCEIÇÃO MARTINS CAVALCANTI LI</td>\n",
       "      <td>APTO</td>\n",
       "      <td>FEMININO</td>\n",
       "      <td>SUPERIOR COMPLETO</td>\n",
       "      <td>CASADO(A)</td>\n",
       "      <td>BRANCA</td>\n",
       "      <td>COMERCIANTE</td>\n",
       "      <td>31777</td>\n",
       "      <td>N</td>\n",
       "    </tr>\n",
       "    <tr>\n",
       "      <th>89063</th>\n",
       "      <td>CAÇAPAVA</td>\n",
       "      <td>PATRICIA APARECIDA DE SIQUEIRA ARCÂNGELO</td>\n",
       "      <td>APTO</td>\n",
       "      <td>FEMININO</td>\n",
       "      <td>ENSINO MÉDIO COMPLETO</td>\n",
       "      <td>SOLTEIRO(A)</td>\n",
       "      <td>BRANCA</td>\n",
       "      <td>OUTROS</td>\n",
       "      <td>31777</td>\n",
       "      <td>N</td>\n",
       "    </tr>\n",
       "    <tr>\n",
       "      <th>89869</th>\n",
       "      <td>CAÇAPAVA</td>\n",
       "      <td>ADRIANA BENEDITA SOARES DE LIMA</td>\n",
       "      <td>APTO</td>\n",
       "      <td>FEMININO</td>\n",
       "      <td>SUPERIOR COMPLETO</td>\n",
       "      <td>SOLTEIRO(A)</td>\n",
       "      <td>PARDA</td>\n",
       "      <td>SERVIDOR PÚBLICO ESTADUAL</td>\n",
       "      <td>31777</td>\n",
       "      <td>N</td>\n",
       "    </tr>\n",
       "  </tbody>\n",
       "</table>\n",
       "</div>"
      ],
      "text/plain": [
       "          NM_UE                                  NM_CANDIDATO  \\\n",
       "1802   CAÇAPAVA         HORACELIA DE FATIMA TRINDADE OLIVEIRA   \n",
       "2319   CAÇAPAVA                          RAQUEL STELA FONSECA   \n",
       "5184   CAÇAPAVA             DANIELE CRISTINE GALDINO SIQUEIRA   \n",
       "6049   CAÇAPAVA            MARTHA MARINA THOMAZ DE AQUINO IVO   \n",
       "6268   CAÇAPAVA            RITA DE CASSIA LIMA AFONSO ALENCAR   \n",
       "12890  CAÇAPAVA                 CAMILA APARECIDA ALVES MIGUEL   \n",
       "14172  CAÇAPAVA                SHIRLEY REGINA SANTOS DE ABREU   \n",
       "14203  CAÇAPAVA                    MARCIA ALVES CORREIA GOMES   \n",
       "17536  CAÇAPAVA                    ELISABETE NATALI ALVARENGA   \n",
       "17741  CAÇAPAVA                      ADRIANA CRISTINA GABRIEL   \n",
       "18985  CAÇAPAVA                   ROSANGELA FERREIRA DE PAULA   \n",
       "19577  CAÇAPAVA                       SILVANA PEIXOTO BARBOSA   \n",
       "20393  CAÇAPAVA                   VALERIA APARECIDA BONIFACIO   \n",
       "20636  CAÇAPAVA                            MARIA CLARA MAMEDE   \n",
       "24137  CAÇAPAVA                      ROSANA APARECIDA TAVARES   \n",
       "25339  CAÇAPAVA                       ANAPAULA FERREIRA PEDRO   \n",
       "25750  CAÇAPAVA                           MARCIA LINO MOREIRA   \n",
       "27376  CAÇAPAVA                           GABRIELA NEVES ROSA   \n",
       "27460  CAÇAPAVA                      ALESSANDRA FARIA REZENDE   \n",
       "27799  CAÇAPAVA                  MIRTES COELHO ORTIZ DE GODOY   \n",
       "28719  CAÇAPAVA                           LUCINÉIA DOS SANTOS   \n",
       "29240  CAÇAPAVA                      AUGUSTA DO ROSARIO FAUST   \n",
       "30381  CAÇAPAVA                 SILMARA GUEDES FERREIRA DINIZ   \n",
       "37042  CAÇAPAVA                       ANA LUCIA PEIXOTO ORTIZ   \n",
       "39219  CAÇAPAVA               JANAÍNA ROBERTA DE CASTRO COSTA   \n",
       "50037  CAÇAPAVA                       MARIA APARECIDA MARINHO   \n",
       "51201  CAÇAPAVA           PATRÍCIA HELENA MATHIAS DE OLIVEIRA   \n",
       "52732  CAÇAPAVA            THAÍS GONÇALVES DIAS TORRES GARCIA   \n",
       "53586  CAÇAPAVA                             SONIA SANTOS REIS   \n",
       "54516  CAÇAPAVA              SILVANA MOREIRA EUGENIO DE SOUZA   \n",
       "54522  CAÇAPAVA                       LUCIANA DIAS DE CAMARGO   \n",
       "54652  CAÇAPAVA                                 SUELI MORALES   \n",
       "54659  CAÇAPAVA                       FERNANDA MOREIRA MILTON   \n",
       "54953  CAÇAPAVA                         SUELI DE MOURA SANTOS   \n",
       "56989  CAÇAPAVA             EVELYN FERNANDA DE MOURA FERREIRA   \n",
       "58053  CAÇAPAVA                       ANGELICA DE PAULO SILVA   \n",
       "59282  CAÇAPAVA            MARIA ISABEL MOREIRA LIMA DA SILVA   \n",
       "68422  CAÇAPAVA    SANDRA REGINA BAPTISTA DOS SANTOS DA SILVA   \n",
       "69165  CAÇAPAVA                         ISABEL CRISTINA CEZAR   \n",
       "73146  CAÇAPAVA                           ELAINE ASSIS SEIXAS   \n",
       "76245  CAÇAPAVA                   TELMA DE FATIMA LIMA VIEIRA   \n",
       "78842  CAÇAPAVA                       SOLANGE LEAL DOS SANTOS   \n",
       "79248  CAÇAPAVA                   MARIA TERESA NUNES LENCIONI   \n",
       "79987  CAÇAPAVA                    MARIA GORETTI NERY SAMPAIO   \n",
       "80571  CAÇAPAVA           PRISCILA APARECIDA MARQUES DE PAULA   \n",
       "80916  CAÇAPAVA                     PATRICIA GUEDES NETO DAIR   \n",
       "80968  CAÇAPAVA                    VANILDA DOS SANTOS CARLOTA   \n",
       "81912  CAÇAPAVA  ANGELICA SIMÃO GALDINO DE CARVALHO ALVARENGA   \n",
       "82852  CAÇAPAVA                 FLAVIA MARILIA DA SILVA MELLO   \n",
       "83955  CAÇAPAVA                   WARUSKA CARLA DA CRUZ NEVES   \n",
       "85567  CAÇAPAVA         FERNANDA RODRIGUES APPUGLIESE RIBEIRO   \n",
       "88706  CAÇAPAVA      MARIA DA CONCEIÇÃO MARTINS CAVALCANTI LI   \n",
       "89063  CAÇAPAVA      PATRICIA APARECIDA DE SIQUEIRA ARCÂNGELO   \n",
       "89869  CAÇAPAVA               ADRIANA BENEDITA SOARES DE LIMA   \n",
       "\n",
       "      DS_SITUACAO_CANDIDATURA DS_GENERO              DS_GRAU_INSTRUCAO  \\\n",
       "1802                     APTO  FEMININO          ENSINO MÉDIO COMPLETO   \n",
       "2319                     APTO  FEMININO          ENSINO MÉDIO COMPLETO   \n",
       "5184                     APTO  FEMININO              SUPERIOR COMPLETO   \n",
       "6049                     APTO  FEMININO              SUPERIOR COMPLETO   \n",
       "6268                     APTO  FEMININO              SUPERIOR COMPLETO   \n",
       "12890                    APTO  FEMININO              SUPERIOR COMPLETO   \n",
       "14172                    APTO  FEMININO    ENSINO FUNDAMENTAL COMPLETO   \n",
       "14203                    APTO  FEMININO          ENSINO MÉDIO COMPLETO   \n",
       "17536                    APTO  FEMININO          ENSINO MÉDIO COMPLETO   \n",
       "17741                    APTO  FEMININO          ENSINO MÉDIO COMPLETO   \n",
       "18985                    APTO  FEMININO          ENSINO MÉDIO COMPLETO   \n",
       "19577                    APTO  FEMININO    ENSINO FUNDAMENTAL COMPLETO   \n",
       "20393                    APTO  FEMININO          ENSINO MÉDIO COMPLETO   \n",
       "20636                    APTO  FEMININO              SUPERIOR COMPLETO   \n",
       "24137                    APTO  FEMININO          ENSINO MÉDIO COMPLETO   \n",
       "25339                    APTO  FEMININO              SUPERIOR COMPLETO   \n",
       "25750                    APTO  FEMININO              SUPERIOR COMPLETO   \n",
       "27376                    APTO  FEMININO          ENSINO MÉDIO COMPLETO   \n",
       "27460                    APTO  FEMININO          ENSINO MÉDIO COMPLETO   \n",
       "27799                    APTO  FEMININO          ENSINO MÉDIO COMPLETO   \n",
       "28719                    APTO  FEMININO          ENSINO MÉDIO COMPLETO   \n",
       "29240                    APTO  FEMININO  ENSINO FUNDAMENTAL INCOMPLETO   \n",
       "30381                    APTO  FEMININO              SUPERIOR COMPLETO   \n",
       "37042                    APTO  FEMININO              SUPERIOR COMPLETO   \n",
       "39219                    APTO  FEMININO              SUPERIOR COMPLETO   \n",
       "50037                    APTO  FEMININO          ENSINO MÉDIO COMPLETO   \n",
       "51201                    APTO  FEMININO          ENSINO MÉDIO COMPLETO   \n",
       "52732                    APTO  FEMININO          ENSINO MÉDIO COMPLETO   \n",
       "53586                    APTO  FEMININO              SUPERIOR COMPLETO   \n",
       "54516                    APTO  FEMININO          ENSINO MÉDIO COMPLETO   \n",
       "54522                    APTO  FEMININO          ENSINO MÉDIO COMPLETO   \n",
       "54652                    APTO  FEMININO              SUPERIOR COMPLETO   \n",
       "54659                    APTO  FEMININO              SUPERIOR COMPLETO   \n",
       "54953                    APTO  FEMININO          ENSINO MÉDIO COMPLETO   \n",
       "56989                    APTO  FEMININO              SUPERIOR COMPLETO   \n",
       "58053                    APTO  FEMININO              SUPERIOR COMPLETO   \n",
       "59282                    APTO  FEMININO  ENSINO FUNDAMENTAL INCOMPLETO   \n",
       "68422                    APTO  FEMININO            SUPERIOR INCOMPLETO   \n",
       "69165                    APTO  FEMININO              SUPERIOR COMPLETO   \n",
       "73146                    APTO  FEMININO          ENSINO MÉDIO COMPLETO   \n",
       "76245                    APTO  FEMININO          ENSINO MÉDIO COMPLETO   \n",
       "78842                    APTO  FEMININO          ENSINO MÉDIO COMPLETO   \n",
       "79248                    APTO  FEMININO          ENSINO MÉDIO COMPLETO   \n",
       "79987                    APTO  FEMININO              SUPERIOR COMPLETO   \n",
       "80571                    APTO  FEMININO          ENSINO MÉDIO COMPLETO   \n",
       "80916                    APTO  FEMININO              SUPERIOR COMPLETO   \n",
       "80968                    APTO  FEMININO          ENSINO MÉDIO COMPLETO   \n",
       "81912                    APTO  FEMININO            SUPERIOR INCOMPLETO   \n",
       "82852                    APTO  FEMININO          ENSINO MÉDIO COMPLETO   \n",
       "83955                    APTO  FEMININO          ENSINO MÉDIO COMPLETO   \n",
       "85567                    APTO  FEMININO          ENSINO MÉDIO COMPLETO   \n",
       "88706                    APTO  FEMININO              SUPERIOR COMPLETO   \n",
       "89063                    APTO  FEMININO          ENSINO MÉDIO COMPLETO   \n",
       "89869                    APTO  FEMININO              SUPERIOR COMPLETO   \n",
       "\n",
       "      DS_ESTADO_CIVIL DS_COR_RACA  \\\n",
       "1802        CASADO(A)      BRANCA   \n",
       "2319      SOLTEIRO(A)      BRANCA   \n",
       "5184        CASADO(A)      BRANCA   \n",
       "6049        CASADO(A)      BRANCA   \n",
       "6268        CASADO(A)      BRANCA   \n",
       "12890       CASADO(A)      BRANCA   \n",
       "14172       CASADO(A)      BRANCA   \n",
       "14203   DIVORCIADO(A)      BRANCA   \n",
       "17536     SOLTEIRO(A)       PARDA   \n",
       "17741     SOLTEIRO(A)      BRANCA   \n",
       "18985       CASADO(A)      BRANCA   \n",
       "19577       CASADO(A)      BRANCA   \n",
       "20393     SOLTEIRO(A)       PRETA   \n",
       "20636       CASADO(A)      BRANCA   \n",
       "24137   DIVORCIADO(A)      BRANCA   \n",
       "25339       CASADO(A)      BRANCA   \n",
       "25750   DIVORCIADO(A)      BRANCA   \n",
       "27376     SOLTEIRO(A)      BRANCA   \n",
       "27460     SOLTEIRO(A)       PARDA   \n",
       "27799     SOLTEIRO(A)       PARDA   \n",
       "28719     SOLTEIRO(A)      BRANCA   \n",
       "29240       CASADO(A)      BRANCA   \n",
       "30381       CASADO(A)      BRANCA   \n",
       "37042       CASADO(A)      BRANCA   \n",
       "39219   DIVORCIADO(A)      BRANCA   \n",
       "50037     SOLTEIRO(A)       PRETA   \n",
       "51201       CASADO(A)       PARDA   \n",
       "52732       CASADO(A)      BRANCA   \n",
       "53586     SOLTEIRO(A)      BRANCA   \n",
       "54516   DIVORCIADO(A)      BRANCA   \n",
       "54522     SOLTEIRO(A)      BRANCA   \n",
       "54652   DIVORCIADO(A)      BRANCA   \n",
       "54659     SOLTEIRO(A)      BRANCA   \n",
       "54953       CASADO(A)      BRANCA   \n",
       "56989     SOLTEIRO(A)      BRANCA   \n",
       "58053     SOLTEIRO(A)      BRANCA   \n",
       "59282       CASADO(A)      BRANCA   \n",
       "68422       CASADO(A)       PRETA   \n",
       "69165     SOLTEIRO(A)      BRANCA   \n",
       "73146     SOLTEIRO(A)      BRANCA   \n",
       "76245   DIVORCIADO(A)      BRANCA   \n",
       "78842       CASADO(A)      BRANCA   \n",
       "79248       CASADO(A)      BRANCA   \n",
       "79987     SOLTEIRO(A)       PARDA   \n",
       "80571     SOLTEIRO(A)      BRANCA   \n",
       "80916       CASADO(A)      BRANCA   \n",
       "80968       CASADO(A)      BRANCA   \n",
       "81912       CASADO(A)      BRANCA   \n",
       "82852     SOLTEIRO(A)       PARDA   \n",
       "83955     SOLTEIRO(A)      BRANCA   \n",
       "85567       CASADO(A)      BRANCA   \n",
       "88706       CASADO(A)      BRANCA   \n",
       "89063     SOLTEIRO(A)      BRANCA   \n",
       "89869     SOLTEIRO(A)       PARDA   \n",
       "\n",
       "                                             DS_OCUPACAO  \\\n",
       "1802                                        DONA DE CASA   \n",
       "2319                                              OUTROS   \n",
       "5184                                   RELAÇÕES-PÚBLICAS   \n",
       "6049                APOSENTADO (EXCETO SERVIDOR PÚBLICO)   \n",
       "6268                               AGENTE ADMINISTRATIVO   \n",
       "12890                             BANCÁRIO E ECONOMIÁRIO   \n",
       "14172                                         EMPRESÁRIO   \n",
       "14203    CORRETOR DE IMÓVEIS, SEGUROS, TÍTULOS E VALORES   \n",
       "17536                                            GERENTE   \n",
       "17741                                             OUTROS   \n",
       "18985                                       DONA DE CASA   \n",
       "19577                                       DONA DE CASA   \n",
       "20393         ATLETA PROFISSIONAL E TÉCNICO EM DESPORTOS   \n",
       "20636                          PROFESSOR DE ENSINO MÉDIO   \n",
       "24137                            CABELEIREIRO E BARBEIRO   \n",
       "25339                                         ODONTÓLOGO   \n",
       "25750                         SERVIDOR PÚBLICO MUNICIPAL   \n",
       "27376                                             OUTROS   \n",
       "27460                            REPRESENTANTE COMERCIAL   \n",
       "27799                                        COMERCIANTE   \n",
       "28719                              MANICURE E MAQUILADOR   \n",
       "29240                                        COMERCIANTE   \n",
       "30381                                        COMERCIANTE   \n",
       "37042                         SERVIDOR PÚBLICO MUNICIPAL   \n",
       "39219                                        TELEFONISTA   \n",
       "50037               APOSENTADO (EXCETO SERVIDOR PÚBLICO)   \n",
       "51201                                        DESPACHANTE   \n",
       "52732                    PROFESSOR DE ENSINO FUNDAMENTAL   \n",
       "53586                    PROFESSOR DE ENSINO FUNDAMENTAL   \n",
       "54516                                             OUTROS   \n",
       "54522                                             OUTROS   \n",
       "54652                              ALFAIATE E COSTUREIRO   \n",
       "54659                                        COMERCIANTE   \n",
       "54953                                       DONA DE CASA   \n",
       "56989                                         EMPRESÁRIO   \n",
       "58053                    PROFESSOR DE ENSINO FUNDAMENTAL   \n",
       "59282                                             OUTROS   \n",
       "68422  TÉCNICO DE ENFERMAGEM E ASSEMELHADOS (EXCETO E...   \n",
       "69165  MOTORISTA DE VEÍCULOS DE TRANSPORTE COLETIVO D...   \n",
       "73146                                         EMPRESÁRIO   \n",
       "76245                                             OUTROS   \n",
       "78842                                  ASSISTENTE SOCIAL   \n",
       "79248               APOSENTADO (EXCETO SERVIDOR PÚBLICO)   \n",
       "79987                          SERVIDOR PÚBLICO ESTADUAL   \n",
       "80571                                             OUTROS   \n",
       "80916             FISIOTERAPEUTA E TERAPEUTA OCUPACIONAL   \n",
       "80968                      AGENTE DE SAÚDE E SANITARISTA   \n",
       "81912                                            GERENTE   \n",
       "82852                           SECRETÁRIO E DATILÓGRAFO   \n",
       "83955                                             OUTROS   \n",
       "85567                                            GERENTE   \n",
       "88706                                        COMERCIANTE   \n",
       "89063                                             OUTROS   \n",
       "89869                          SERVIDOR PÚBLICO ESTADUAL   \n",
       "\n",
       "       VR_DESPESA_MAX_CAMPANHA ST_REELEICAO  \n",
       "1802                     31777            N  \n",
       "2319                     31777            N  \n",
       "5184                     31777            N  \n",
       "6049                     31777            N  \n",
       "6268                     31777            N  \n",
       "12890                    31777            N  \n",
       "14172                    31777            N  \n",
       "14203                    31777            N  \n",
       "17536                    31777            N  \n",
       "17741                    31777            N  \n",
       "18985                    31777            N  \n",
       "19577                    31777            N  \n",
       "20393                    31777            N  \n",
       "20636                    31777            N  \n",
       "24137                    31777            N  \n",
       "25339                       -1            N  \n",
       "25750                    31777            N  \n",
       "27376                    31777            N  \n",
       "27460                    31777            N  \n",
       "27799                    31777            N  \n",
       "28719                    31777            N  \n",
       "29240                    31777            N  \n",
       "30381                   424108            N  \n",
       "37042                    31777            N  \n",
       "39219                    31777            N  \n",
       "50037                    31777            N  \n",
       "51201                    31777            N  \n",
       "52732                    31777            N  \n",
       "53586                    31777            N  \n",
       "54516                    31777            N  \n",
       "54522                    31777            N  \n",
       "54652                    31777            N  \n",
       "54659                    31777            N  \n",
       "54953                    31777            N  \n",
       "56989                    31777            N  \n",
       "58053                    31777            N  \n",
       "59282                    31777            N  \n",
       "68422                    31777            N  \n",
       "69165                    31777            N  \n",
       "73146                    31777            N  \n",
       "76245                    31777            N  \n",
       "78842                    31777            N  \n",
       "79248                    31777            N  \n",
       "79987                    31777            N  \n",
       "80571                    31777            N  \n",
       "80916                    31777            N  \n",
       "80968                    31777            N  \n",
       "81912                    31777            N  \n",
       "82852                    31777            N  \n",
       "83955                    31777            N  \n",
       "85567                    31777            N  \n",
       "88706                    31777            N  \n",
       "89063                    31777            N  \n",
       "89869                    31777            N  "
      ]
     },
     "execution_count": 31,
     "metadata": {},
     "output_type": "execute_result"
    }
   ],
   "source": [
    "cpv_2020 = candidata_vereadora_2020.query('DS_GENERO == \"FEMININO\" & NM_UE == \"CAÇAPAVA\" & DS_SITUACAO_CANDIDATURA == \"APTO\"')\n",
    "cpv_2020"
   ]
  },
  {
   "cell_type": "markdown",
   "metadata": {},
   "source": [
    "## Nível de escolariadade das Candidatas da cidade de Caçapava dos anos de 2016 e 2020"
   ]
  },
  {
   "cell_type": "code",
   "execution_count": 65,
   "metadata": {},
   "outputs": [
    {
     "data": {
      "text/plain": [
       "ENSINO MÉDIO COMPLETO            30.303030\n",
       "SUPERIOR COMPLETO                30.303030\n",
       "ENSINO FUNDAMENTAL COMPLETO      13.636364\n",
       "SUPERIOR INCOMPLETO               9.090909\n",
       "ENSINO FUNDAMENTAL INCOMPLETO     9.090909\n",
       "ENSINO MÉDIO INCOMPLETO           6.060606\n",
       "LÊ E ESCREVE                      1.515152\n",
       "Name: DS_GRAU_INSTRUCAO, dtype: float64"
      ]
     },
     "execution_count": 65,
     "metadata": {},
     "output_type": "execute_result"
    },
    {
     "data": {
      "image/png": "[encoded data removed]",
      "text/plain": [
       "<Figure size 432x288 with 1 Axes>"
      ]
     },
     "metadata": {
      "needs_background": "light"
     },
     "output_type": "display_data"
    }
   ],
   "source": [
    "cpv_2016[cpv_2016['DS_GENERO']=='FEMININO']['DS_GRAU_INSTRUCAO'].value_counts(normalize=True).plot(kind='bar',title='Nível de escolaridade das Candidatas');\n",
    "cpv_2016[cpv_2016['DS_GENERO']=='FEMININO']['DS_GRAU_INSTRUCAO'].value_counts(normalize=True)*100"
   ]
  },
  {
   "cell_type": "code",
   "execution_count": 66,
   "metadata": {},
   "outputs": [
    {
     "data": {
      "text/plain": [
       "ENSINO MÉDIO COMPLETO            51.851852\n",
       "SUPERIOR COMPLETO                37.037037\n",
       "ENSINO FUNDAMENTAL INCOMPLETO     3.703704\n",
       "ENSINO FUNDAMENTAL COMPLETO       3.703704\n",
       "SUPERIOR INCOMPLETO               3.703704\n",
       "Name: DS_GRAU_INSTRUCAO, dtype: float64"
      ]
     },
     "execution_count": 66,
     "metadata": {},
     "output_type": "execute_result"
    },
    {
     "data": {
      "image/png": "[encoded data removed]",
      "text/plain": [
       "<Figure size 432x288 with 1 Axes>"
      ]
     },
     "metadata": {
      "needs_background": "light"
     },
     "output_type": "display_data"
    }
   ],
   "source": [
    "cpv_2020[cpv_2020['DS_GENERO']=='FEMININO']['DS_GRAU_INSTRUCAO'].value_counts(normalize=True).plot(kind='bar',title='Nível de escolaridade das Candidatas');\n",
    "cpv_2020[cpv_2020['DS_GENERO']=='FEMININO']['DS_GRAU_INSTRUCAO'].value_counts(normalize=True)*100"
   ]
  },
  {
   "cell_type": "markdown",
   "metadata": {},
   "source": [
    "## Estado Civil das Candidatas da cidade de Caçapava dos anos de 2016 e 2020"
   ]
  },
  {
   "cell_type": "code",
   "execution_count": 37,
   "metadata": {},
   "outputs": [
    {
     "data": {
      "text/plain": [
       "CASADO(A)                    53.030303\n",
       "SOLTEIRO(A)                  25.757576\n",
       "DIVORCIADO(A)                18.181818\n",
       "SEPARADO(A) JUDICIALMENTE     3.030303\n",
       "Name: DS_ESTADO_CIVIL, dtype: float64"
      ]
     },
     "execution_count": 37,
     "metadata": {},
     "output_type": "execute_result"
    }
   ],
   "source": [
    "cpv_2016[cpv_2016['DS_GENERO']=='FEMININO']['DS_ESTADO_CIVIL'].value_counts(normalize=True)*100"
   ]
  },
  {
   "cell_type": "code",
   "execution_count": 40,
   "metadata": {},
   "outputs": [
    {
     "data": {
      "image/png": "[encoded data removed]",
      "text/plain": [
       "<Figure size 432x288 with 1 Axes>"
      ]
     },
     "metadata": {
      "needs_background": "light"
     },
     "output_type": "display_data"
    }
   ],
   "source": [
    "cpv_2016[cpv_2016['DS_GENERO']=='FEMININO']['DS_ESTADO_CIVIL'].value_counts(normalize=True).plot(kind='bar',title='Estado civil das Candidadas');"
   ]
  },
  {
   "cell_type": "code",
   "execution_count": 41,
   "metadata": {},
   "outputs": [
    {
     "data": {
      "text/plain": [
       "CASADO(A)        46.296296\n",
       "SOLTEIRO(A)      40.740741\n",
       "DIVORCIADO(A)    12.962963\n",
       "Name: DS_ESTADO_CIVIL, dtype: float64"
      ]
     },
     "execution_count": 41,
     "metadata": {},
     "output_type": "execute_result"
    }
   ],
   "source": [
    "cpv_2020[cpv_2020['DS_GENERO']=='FEMININO']['DS_ESTADO_CIVIL'].value_counts(normalize=True)*100"
   ]
  },
  {
   "cell_type": "code",
   "execution_count": 36,
   "metadata": {},
   "outputs": [
    {
     "data": {
      "image/png": "[encoded data removed]",
      "text/plain": [
       "<Figure size 432x288 with 1 Axes>"
      ]
     },
     "metadata": {
      "needs_background": "light"
     },
     "output_type": "display_data"
    }
   ],
   "source": [
    "cpv_2020[cpv_2020['DS_GENERO']=='FEMININO']['DS_ESTADO_CIVIL'].value_counts(normalize=True).plot(kind='bar',title='Estado civil das Candidadas');"
   ]
  },
  {
   "cell_type": "markdown",
   "metadata": {},
   "source": [
    "## Cor/raça das Candidatas da cidade de Caçapava dos anos de 2016 e 2020"
   ]
  },
  {
   "cell_type": "code",
   "execution_count": 42,
   "metadata": {},
   "outputs": [
    {
     "data": {
      "text/plain": [
       "BRANCA    57.575758\n",
       "PARDA     34.848485\n",
       "PRETA      7.575758\n",
       "Name: DS_COR_RACA, dtype: float64"
      ]
     },
     "execution_count": 42,
     "metadata": {},
     "output_type": "execute_result"
    }
   ],
   "source": [
    "cpv_2016[cpv_2016['DS_GENERO']=='FEMININO']['DS_COR_RACA'].value_counts(normalize=True)*100"
   ]
  },
  {
   "cell_type": "code",
   "execution_count": 43,
   "metadata": {},
   "outputs": [
    {
     "data": {
      "image/png": "[encoded data removed]",
      "text/plain": [
       "<Figure size 432x288 with 1 Axes>"
      ]
     },
     "metadata": {
      "needs_background": "light"
     },
     "output_type": "display_data"
    }
   ],
   "source": [
    "cpv_2016[cpv_2016['DS_GENERO']=='FEMININO']['DS_COR_RACA'].value_counts(normalize=True).plot(kind='bar',title='Cor/raça das Candidadas');"
   ]
  },
  {
   "cell_type": "code",
   "execution_count": 44,
   "metadata": {},
   "outputs": [
    {
     "data": {
      "text/plain": [
       "BRANCA    81.481481\n",
       "PARDA     12.962963\n",
       "PRETA      5.555556\n",
       "Name: DS_COR_RACA, dtype: float64"
      ]
     },
     "execution_count": 44,
     "metadata": {},
     "output_type": "execute_result"
    }
   ],
   "source": [
    "cpv_2020[cpv_2020['DS_GENERO']=='FEMININO']['DS_COR_RACA'].value_counts(normalize=True)*100"
   ]
  },
  {
   "cell_type": "code",
   "execution_count": 46,
   "metadata": {},
   "outputs": [
    {
     "data": {
      "image/png": "[encoded data removed]",
      "text/plain": [
       "<Figure size 432x288 with 1 Axes>"
      ]
     },
     "metadata": {
      "needs_background": "light"
     },
     "output_type": "display_data"
    }
   ],
   "source": [
    "cpv_2020[cpv_2020['DS_GENERO']=='FEMININO']['DS_COR_RACA'].value_counts(normalize=True).plot(kind='bar',title='Cor/raça das Candidadas');"
   ]
  },
  {
   "cell_type": "markdown",
   "metadata": {},
   "source": [
    "## Ocupação das Candidatas da cidade de Caçapava dos anos de 2016 e 2020"
   ]
  },
  {
   "cell_type": "code",
   "execution_count": 47,
   "metadata": {},
   "outputs": [
    {
     "data": {
      "text/plain": [
       "OUTROS                                            15.151515\n",
       "DONA DE CASA                                      13.636364\n",
       "AUXILIAR DE ESCRITÓRIO E ASSEMELHADOS              6.060606\n",
       "ADMINISTRADOR                                      6.060606\n",
       "SERVIDOR PÚBLICO MUNICIPAL                         6.060606\n",
       "CABELEIREIRO E BARBEIRO                            4.545455\n",
       "ASSISTENTE SOCIAL                                  4.545455\n",
       "ADVOGADO                                           3.030303\n",
       "PROFESSOR DE ENSINO FUNDAMENTAL                    3.030303\n",
       "COZINHEIRO                                         3.030303\n",
       "EMPRESÁRIO                                         3.030303\n",
       "COMERCIANTE                                        3.030303\n",
       "ARTESÃO                                            3.030303\n",
       "AGENTE DE VIAGEM                                   1.515152\n",
       "ASTRÔNOMO                                          1.515152\n",
       "PSICÓLOGO                                          1.515152\n",
       "COBRADOR DE TRANSPORTE COLETIVO                    1.515152\n",
       "FEIRANTE, AMBULANTE E MASCATE                      1.515152\n",
       "PEDAGOGO                                           1.515152\n",
       "GERENTE                                            1.515152\n",
       "REPRESENTANTE COMERCIAL                            1.515152\n",
       "APOSENTADO (EXCETO SERVIDOR PÚBLICO)               1.515152\n",
       "VEREADOR                                           1.515152\n",
       "INDUSTRIAL                                         1.515152\n",
       "PROFESSOR DE ENSINO MÉDIO                          1.515152\n",
       "AGENTE DE SAÚDE E SANITARISTA                      1.515152\n",
       "VIGILANTE                                          1.515152\n",
       "RECEPCIONISTA                                      1.515152\n",
       "GARI OU LIXEIRO                                    1.515152\n",
       "ESTUDANTE, BOLSISTA, ESTAGIÁRIO E ASSEMELHADOS     1.515152\n",
       "Name: DS_OCUPACAO, dtype: float64"
      ]
     },
     "execution_count": 47,
     "metadata": {},
     "output_type": "execute_result"
    }
   ],
   "source": [
    "cpv_2016[cpv_2016['DS_GENERO']=='FEMININO']['DS_OCUPACAO'].value_counts(normalize=True)*100"
   ]
  },
  {
   "cell_type": "code",
   "execution_count": 48,
   "metadata": {},
   "outputs": [
    {
     "data": {
      "image/png": "[encoded data removed]",
      "text/plain": [
       "<Figure size 432x288 with 1 Axes>"
      ]
     },
     "metadata": {
      "needs_background": "light"
     },
     "output_type": "display_data"
    }
   ],
   "source": [
    "cpv_2016[cpv_2016['DS_GENERO']=='FEMININO']['DS_OCUPACAO'].value_counts(normalize=True).plot(kind='bar',title='Ocupação das Candidadas');"
   ]
  },
  {
   "cell_type": "code",
   "execution_count": 49,
   "metadata": {},
   "outputs": [
    {
     "data": {
      "text/plain": [
       "OUTROS                                                         18.518519\n",
       "COMERCIANTE                                                     9.259259\n",
       "DONA DE CASA                                                    7.407407\n",
       "EMPRESÁRIO                                                      5.555556\n",
       "GERENTE                                                         5.555556\n",
       "PROFESSOR DE ENSINO FUNDAMENTAL                                 5.555556\n",
       "APOSENTADO (EXCETO SERVIDOR PÚBLICO)                            5.555556\n",
       "SERVIDOR PÚBLICO ESTADUAL                                       3.703704\n",
       "SERVIDOR PÚBLICO MUNICIPAL                                      3.703704\n",
       "TELEFONISTA                                                     1.851852\n",
       "ODONTÓLOGO                                                      1.851852\n",
       "DESPACHANTE                                                     1.851852\n",
       "RELAÇÕES-PÚBLICAS                                               1.851852\n",
       "ALFAIATE E COSTUREIRO                                           1.851852\n",
       "CABELEIREIRO E BARBEIRO                                         1.851852\n",
       "MOTORISTA DE VEÍCULOS DE TRANSPORTE COLETIVO DE PASSAGEIROS     1.851852\n",
       "ATLETA PROFISSIONAL E TÉCNICO EM DESPORTOS                      1.851852\n",
       "PROFESSOR DE ENSINO MÉDIO                                       1.851852\n",
       "ASSISTENTE SOCIAL                                               1.851852\n",
       "AGENTE ADMINISTRATIVO                                           1.851852\n",
       "CORRETOR DE IMÓVEIS, SEGUROS, TÍTULOS E VALORES                 1.851852\n",
       "AGENTE DE SAÚDE E SANITARISTA                                   1.851852\n",
       "TÉCNICO DE ENFERMAGEM E ASSEMELHADOS (EXCETO ENFERMEIRO)        1.851852\n",
       "REPRESENTANTE COMERCIAL                                         1.851852\n",
       "MANICURE E MAQUILADOR                                           1.851852\n",
       "FISIOTERAPEUTA E TERAPEUTA OCUPACIONAL                          1.851852\n",
       "SECRETÁRIO E DATILÓGRAFO                                        1.851852\n",
       "BANCÁRIO E ECONOMIÁRIO                                          1.851852\n",
       "Name: DS_OCUPACAO, dtype: float64"
      ]
     },
     "execution_count": 49,
     "metadata": {},
     "output_type": "execute_result"
    }
   ],
   "source": [
    "cpv_2020[cpv_2020['DS_GENERO']=='FEMININO']['DS_OCUPACAO'].value_counts(normalize=True)*100"
   ]
  },
  {
   "cell_type": "code",
   "execution_count": 50,
   "metadata": {},
   "outputs": [
    {
     "data": {
      "image/png": "[encoded data removed]",
      "text/plain": [
       "<Figure size 432x288 with 1 Axes>"
      ]
     },
     "metadata": {
      "needs_background": "light"
     },
     "output_type": "display_data"
    }
   ],
   "source": [
    "cpv_2020[cpv_2020['DS_GENERO']=='FEMININO']['DS_OCUPACAO'].value_counts(normalize=True).plot(kind='bar',title='Ocupação das Candidadas');"
   ]
  },
  {
   "cell_type": "markdown",
   "metadata": {},
   "source": [
    "## Valor máximo, em reais, de despesas de campanha declarada pelas Candidatas da cidade de Caçapava dos anos de 2016 e 2020"
   ]
  },
  {
   "cell_type": "code",
   "execution_count": 51,
   "metadata": {},
   "outputs": [
    {
     "data": {
      "text/plain": [
       "-1    71.212121\n",
       " 0    28.787879\n",
       "Name: VR_DESPESA_MAX_CAMPANHA, dtype: float64"
      ]
     },
     "execution_count": 51,
     "metadata": {},
     "output_type": "execute_result"
    }
   ],
   "source": [
    "cpv_2016[cpv_2016['DS_GENERO']=='FEMININO']['VR_DESPESA_MAX_CAMPANHA'].value_counts(normalize=True)*100"
   ]
  },
  {
   "cell_type": "code",
   "execution_count": 57,
   "metadata": {},
   "outputs": [
    {
     "data": {
      "image/png": "[encoded data removed]",
      "text/plain": [
       "<Figure size 432x288 with 1 Axes>"
      ]
     },
     "metadata": {
      "needs_background": "light"
     },
     "output_type": "display_data"
    }
   ],
   "source": [
    "cpv_2016[cpv_2016['DS_GENERO']=='FEMININO']['VR_DESPESA_MAX_CAMPANHA'].value_counts(normalize=True).plot(kind='bar',title='Valor das despesas das Candidadas');"
   ]
  },
  {
   "cell_type": "code",
   "execution_count": 53,
   "metadata": {},
   "outputs": [
    {
     "data": {
      "text/plain": [
       " 31777     96.296296\n",
       " 424108     1.851852\n",
       "-1          1.851852\n",
       "Name: VR_DESPESA_MAX_CAMPANHA, dtype: float64"
      ]
     },
     "execution_count": 53,
     "metadata": {},
     "output_type": "execute_result"
    }
   ],
   "source": [
    "cpv_2020[cpv_2020['DS_GENERO']=='FEMININO']['VR_DESPESA_MAX_CAMPANHA'].value_counts(normalize=True)*100"
   ]
  },
  {
   "cell_type": "code",
   "execution_count": 54,
   "metadata": {},
   "outputs": [
    {
     "data": {
      "image/png": "[encoded data removed]",
      "text/plain": [
       "<Figure size 432x288 with 1 Axes>"
      ]
     },
     "metadata": {
      "needs_background": "light"
     },
     "output_type": "display_data"
    }
   ],
   "source": [
    "cpv_2020[cpv_2020['DS_GENERO']=='FEMININO']['VR_DESPESA_MAX_CAMPANHA'].value_counts(normalize=True).plot(kind='bar',title='Valor das despesas das Candidadas');"
   ]
  },
  {
   "cell_type": "markdown",
   "metadata": {},
   "source": [
    "## Porcentagem das candidatas que concorrendo ou não à reeleição da cidade de Caçapava dos anos de 2016 e 2020. Pode assumir os valores: S - Sim e N - Não. "
   ]
  },
  {
   "cell_type": "code",
   "execution_count": 60,
   "metadata": {},
   "outputs": [
    {
     "data": {
      "text/plain": [
       "N    98.484848\n",
       "S     1.515152\n",
       "Name: ST_REELEICAO, dtype: float64"
      ]
     },
     "execution_count": 60,
     "metadata": {},
     "output_type": "execute_result"
    }
   ],
   "source": [
    "cpv_2016[cpv_2016['DS_GENERO']=='FEMININO']['ST_REELEICAO'].value_counts(normalize=True)*100"
   ]
  },
  {
   "cell_type": "code",
   "execution_count": 61,
   "metadata": {},
   "outputs": [
    {
     "data": {
      "image/png": "[encoded data removed]",
      "text/plain": [
       "<Figure size 432x288 with 1 Axes>"
      ]
     },
     "metadata": {
      "needs_background": "light"
     },
     "output_type": "display_data"
    }
   ],
   "source": [
    "cpv_2016[cpv_2016['DS_GENERO']=='FEMININO']['ST_REELEICAO'].value_counts(normalize=True).plot(kind='bar',title='Porcentagem de Releeição das Candidadas');"
   ]
  },
  {
   "cell_type": "code",
   "execution_count": 64,
   "metadata": {},
   "outputs": [
    {
     "data": {
      "text/plain": [
       "N    100.0\n",
       "Name: ST_REELEICAO, dtype: float64"
      ]
     },
     "execution_count": 64,
     "metadata": {},
     "output_type": "execute_result"
    }
   ],
   "source": [
    "cpv_2020[cpv_2020['DS_GENERO']=='FEMININO']['ST_REELEICAO'].value_counts(normalize=True)*100"
   ]
  },
  {
   "cell_type": "code",
   "execution_count": 63,
   "metadata": {},
   "outputs": [
    {
     "data": {
      "image/png": "[encoded data removed]",
      "text/plain": [
       "<Figure size 432x288 with 1 Axes>"
      ]
     },
     "metadata": {
      "needs_background": "light"
     },
     "output_type": "display_data"
    }
   ],
   "source": [
    "cpv_2016[cpv_2016['DS_GENERO']=='FEMININO']['ST_REELEICAO'].value_counts(normalize=True).plot(kind='bar',title='Porcentagem de Releeição das Candidadas');"
   ]
  }
 ],
 "metadata": {
  "kernelspec": {
   "display_name": "Python 3",
   "language": "python",
   "name": "python3"
  },
  "language_info": {
   "codemirror_mode": {
    "name": "ipython",
    "version": 3
   },
   "file_extension": ".py",
   "mimetype": "text/x-python",
   "name": "python",
   "nbconvert_exporter": "python",
   "pygments_lexer": "ipython3",
   "version": "3.8.6"
  }
 },
 "nbformat": 4,
 "nbformat_minor": 4
}
