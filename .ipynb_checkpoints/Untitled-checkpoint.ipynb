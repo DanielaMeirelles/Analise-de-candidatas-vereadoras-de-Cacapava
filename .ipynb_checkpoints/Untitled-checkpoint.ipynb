{
 "cells": [
  {
   "cell_type": "code",
   "execution_count": 4,
   "metadata": {},
   "outputs": [],
   "source": [
    "import pandas as pd"
   ]
  },
  {
   "cell_type": "code",
   "execution_count": 5,
   "metadata": {},
   "outputs": [
    {
     "ename": "SyntaxError",
     "evalue": "(unicode error) 'unicodeescape' codec can't decode bytes in position 2-3: truncated \\UXXXXXXXX escape (<ipython-input-5-433a7fb5c6aa>, line 1)",
     "output_type": "error",
     "traceback": [
      "\u001b[1;36m  File \u001b[1;32m\"<ipython-input-5-433a7fb5c6aa>\"\u001b[1;36m, line \u001b[1;32m1\u001b[0m\n\u001b[1;33m    candidato_vereador = pd.read_csv('C:\\Users\\Stephanie\\Documents\\5ºSemestreFatec\\LabBD\\jupyterNotebook\\material-analise-de-dados\\consulta_cand_2020\\consulta_cand_2020_sp.csv', sep=';' , encoding='iso-8859-1')\u001b[0m\n\u001b[1;37m                                     ^\u001b[0m\n\u001b[1;31mSyntaxError\u001b[0m\u001b[1;31m:\u001b[0m (unicode error) 'unicodeescape' codec can't decode bytes in position 2-3: truncated \\UXXXXXXXX escape\n"
     ]
    }
   ],
   "source": [
    "candidato_vereador = pd.read_csv('C:\\Users\\Stephanie\\Documents\\5ºSemestreFatec\\LabBD\\jupyterNotebook\\venv\\consulta_cand_2020\\consulta_cand_2020_sp.csv', sep=';' , encoding='iso-8859-1')"
   ]
  }
 ],
 "metadata": {
  "kernelspec": {
   "display_name": "Python 3",
   "language": "python",
   "name": "python3"
  }
 },
 "nbformat": 4,
 "nbformat_minor": 4
}
